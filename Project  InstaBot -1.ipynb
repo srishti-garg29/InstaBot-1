{
 "cells": [
  {
   "cell_type": "markdown",
   "metadata": {},
   "source": [
    "## IMPORTING LIBRARIES"
   ]
  },
  {
   "cell_type": "code",
   "execution_count": 1,
   "metadata": {},
   "outputs": [],
   "source": [
    "from selenium import webdriver\n",
    "from selenium.webdriver.support.ui import WebDriverWait\n",
    "from selenium.webdriver.support import expected_conditions as EC\n",
    "from selenium.webdriver.common.by import By\n",
    "import time\n",
    "from bs4 import BeautifulSoup"
   ]
  },
  {
   "cell_type": "markdown",
   "metadata": {},
   "source": [
    "## OPENING THE BROWSER"
   ]
  },
  {
   "cell_type": "code",
   "execution_count": null,
   "metadata": {},
   "outputs": [],
   "source": [
    "driver=webdriver.Chrome(executable_path='C:\\\\Users\\\\.wdm\\\\drivers\\\\chromedriver\\\\win32\\\\99.0.4844.51\\\\chromedriver')\n",
    "\n",
    "# maximizing the browser\n",
    "driver.maximize_window()"
   ]
  },
  {
   "cell_type": "markdown",
   "metadata": {},
   "source": [
    "## OPENING INSTAGRAM"
   ]
  },
  {
   "cell_type": "code",
   "execution_count": 3,
   "metadata": {},
   "outputs": [],
   "source": [
    "driver.get('https://www.instagram.com/')"
   ]
  },
  {
   "cell_type": "markdown",
   "metadata": {},
   "source": [
    "# WAIT UNTIL ELEMENT FORM IS PRESENT"
   ]
  },
  {
   "cell_type": "code",
   "execution_count": 4,
   "metadata": {},
   "outputs": [],
   "source": [
    "wait=WebDriverWait(driver, 10).until(EC.presence_of_element_located((By.XPATH,'//form')))"
   ]
  },
  {
   "cell_type": "markdown",
   "metadata": {},
   "source": [
    "# QUESTION 1. "
   ]
  },
  {
   "cell_type": "code",
   "execution_count": 5,
   "metadata": {},
   "outputs": [],
   "source": [
    "# function for logging into our instagram handle"
   ]
  },
  {
   "cell_type": "code",
   "execution_count": 6,
   "metadata": {},
   "outputs": [],
   "source": [
    "def log_in(username,password):\n",
    "    try:\n",
    "        # find username box and enter username\n",
    "        username_box=driver.find_element_by_name('username')\n",
    "        username_box.send_keys(username)\n",
    "\n",
    "        # find password box and write password\n",
    "        password_box=driver.find_element_by_name('password')\n",
    "        password_box.send_keys(password)\n",
    "\n",
    "        # click on log in\n",
    "        driver.find_element_by_class_name('L3NKy').click()\n",
    "\n",
    "        # wait until save your login info appears-clicking on not now\n",
    "        wait=WebDriverWait(driver,10).until(EC.presence_of_element_located((By.XPATH,'//div[contains(@class,\"cmbtv\")]/button')))\n",
    "        wait.click()\n",
    "\n",
    "        # wait until turn off notifications appear-clicking on not now\n",
    "        wait=WebDriverWait(driver,10).until(EC.presence_of_element_located((By.XPATH,'//button[contains(@class,\"HoLwm \")]')))\n",
    "        wait.click()\n",
    "    except:\n",
    "        print('Error!')\n",
    "        print('Try Again')"
   ]
  },
  {
   "cell_type": "code",
   "execution_count": 7,
   "metadata": {},
   "outputs": [],
   "source": [
    "# login to our instagram handle"
   ]
  },
  {
   "cell_type": "code",
   "execution_count": 8,
   "metadata": {},
   "outputs": [
    {
     "name": "stderr",
     "output_type": "stream",
     "text": [
      "<ipython-input-6-907a74fa95cd>:4: DeprecationWarning: find_element_by_name is deprecated. Please use find_element(by=By.NAME, value=name) instead\n",
      "  username_box=driver.find_element_by_name('username')\n",
      "<ipython-input-6-907a74fa95cd>:8: DeprecationWarning: find_element_by_name is deprecated. Please use find_element(by=By.NAME, value=name) instead\n",
      "  password_box=driver.find_element_by_name('password')\n",
      "<ipython-input-6-907a74fa95cd>:12: DeprecationWarning: find_element_by_class_name is deprecated. Please use find_element(by=By.CLASS_NAME, value=name) instead\n",
      "  driver.find_element_by_class_name('L3NKy').click()\n"
     ]
    }
   ],
   "source": [
    "log_in('sample_username','sample_password')"
   ]
  },
  {
   "cell_type": "markdown",
   "metadata": {},
   "source": [
    "# QUESTION 2."
   ]
  },
  {
   "cell_type": "code",
   "execution_count": 9,
   "metadata": {},
   "outputs": [],
   "source": [
    "# function for searching on instagram"
   ]
  },
  {
   "cell_type": "code",
   "execution_count": 10,
   "metadata": {},
   "outputs": [],
   "source": [
    "def search_on_instagram(text):\n",
    "    try:\n",
    "        # finding search box and enabling the search box\n",
    "        search_box=driver.find_element_by_class_name('P0xOK').click()\n",
    "        wait=WebDriverWait(driver, 10).until(EC.presence_of_element_located((By.CLASS_NAME, \"XTCLo\")))\n",
    "\n",
    "        # searching food in search box\n",
    "        search_box=driver.find_element_by_class_name('XTCLo')\n",
    "        search_box.send_keys(text)\n",
    "\n",
    "        # wait until the element with that class is not available\n",
    "        wait=WebDriverWait(driver, 10).until(EC.presence_of_element_located((By.CLASS_NAME, \"-qQT3\")))\n",
    "\n",
    "        # loop for getting all handles except hashtags\n",
    "        handles=[]\n",
    "        for i in driver.find_elements_by_xpath('//a[@class=\"-qQT3\"]/div/div[contains(@class,\"YBx95\")]/div/div/div/div'):\n",
    "            if i.get_attribute('innerHTML')[0]!='#':\n",
    "                handles.append(i.text)\n",
    "        return handles\n",
    "    \n",
    "    except:\n",
    "        print('No Results Found')"
   ]
  },
  {
   "cell_type": "code",
   "execution_count": 11,
   "metadata": {},
   "outputs": [],
   "source": [
    "# type for “food” in search bar and print all the names of the Instagram Handles that are displayed in list after typing “food” \n",
    "# avoiding hashtags"
   ]
  },
  {
   "cell_type": "code",
   "execution_count": 12,
   "metadata": {},
   "outputs": [
    {
     "name": "stderr",
     "output_type": "stream",
     "text": [
      "<ipython-input-10-27a60185d4ed>:4: DeprecationWarning: find_element_by_class_name is deprecated. Please use find_element(by=By.CLASS_NAME, value=name) instead\n",
      "  search_box=driver.find_element_by_class_name('P0xOK').click()\n",
      "<ipython-input-10-27a60185d4ed>:8: DeprecationWarning: find_element_by_class_name is deprecated. Please use find_element(by=By.CLASS_NAME, value=name) instead\n",
      "  search_box=driver.find_element_by_class_name('XTCLo')\n",
      "<ipython-input-10-27a60185d4ed>:16: DeprecationWarning: find_elements_by_xpath is deprecated. Please use find_elements(by=By.XPATH, value=xpath) instead\n",
      "  for i in driver.find_elements_by_xpath('//a[@class=\"-qQT3\"]/div/div[contains(@class,\"YBx95\")]/div/div/div/div'):\n"
     ]
    },
    {
     "name": "stdout",
     "output_type": "stream",
     "text": [
      "foodtalkindia\n",
      "dilsefoodie\n",
      "foodie_incarnate\n",
      "foodiewe\n",
      "headovermeals_2\n",
      "foodgasmicdiaries\n",
      "food\n",
      "thefoodiehouse00\n",
      "netflixfood\n",
      "food_lunatic\n",
      "foodyyyysoul\n",
      "food.slayers_\n",
      "foodnerd33\n",
      "thisisdelhi\n",
      "aalsiparatha\n",
      "foodzeee\n",
      "food_addiction9\n",
      "thespicesof.life_\n",
      "food_is_lobe\n",
      "foodrush.recipe\n",
      "food_eating_cravings\n",
      "food_mandi\n",
      "food_bazardelhi\n",
      "food_fusions_\n",
      "delhifoodguide\n",
      "delhifoodnest\n",
      "foodstamp.in\n",
      "yourfoodlab\n",
      "food_publishers\n",
      "food.hangover_\n",
      "foodys\n",
      "foodwithplace\n",
      "food.bloggirl\n",
      "bisckoo\n",
      "_food__studio__\n",
      "swaadtales\n",
      "food.marvels.vc\n",
      "food_architect_\n",
      "dilliwalichics\n",
      "food_flooooodddd\n",
      "food_puffgirl\n",
      "eatlikeamaniac\n",
      "foodish_fun\n",
      "food.shaala\n",
      "delhifoodbuzz\n",
      "food_lovers_v\n",
      "foodshood_delhi\n",
      "delhi_food_menu\n",
      "whaaatislife\n",
      "this_is_delhi\n"
     ]
    }
   ],
   "source": [
    "food_handles=search_on_instagram('food')\n",
    "for i in food_handles:\n",
    "    if i!='':\n",
    "        print(i)"
   ]
  },
  {
   "cell_type": "markdown",
   "metadata": {},
   "source": [
    "## TO CLEAR FOOD FROM SEARCH TAB"
   ]
  },
  {
   "cell_type": "code",
   "execution_count": 13,
   "metadata": {},
   "outputs": [
    {
     "name": "stderr",
     "output_type": "stream",
     "text": [
      "<ipython-input-13-4a4d14b8e114>:1: DeprecationWarning: find_element_by_class_name is deprecated. Please use find_element(by=By.CLASS_NAME, value=name) instead\n",
      "  driver.find_element_by_class_name('coreSpriteSearchClear').click()\n"
     ]
    }
   ],
   "source": [
    "driver.find_element_by_class_name('coreSpriteSearchClear').click()"
   ]
  },
  {
   "cell_type": "markdown",
   "metadata": {},
   "source": [
    "# QUESTION 3."
   ]
  },
  {
   "cell_type": "code",
   "execution_count": 14,
   "metadata": {},
   "outputs": [],
   "source": [
    "# function for searching a profile and opening it"
   ]
  },
  {
   "cell_type": "code",
   "execution_count": 15,
   "metadata": {},
   "outputs": [],
   "source": [
    "def search_open_profile(profile):\n",
    "    try:\n",
    "        # finding search box and enabling the search box\n",
    "        search_box=driver.find_element_by_class_name('P0xOK').click()\n",
    "        wait=WebDriverWait(driver, 10).until(EC.presence_of_element_located((By.CLASS_NAME, \"XTCLo\")))\n",
    "\n",
    "        # searching sodelhi in search box\n",
    "        search_box=driver.find_element_by_class_name('XTCLo')\n",
    "        search_box.send_keys(profile)\n",
    "\n",
    "        # wait until the element with that class is not available\n",
    "        wait=WebDriverWait(driver, 10).until(EC.presence_of_element_located((By.CLASS_NAME, \"-qQT3\")))\n",
    "\n",
    "        # opening sodelhi's profile\n",
    "        driver.find_element_by_class_name('-qQT3').click()\n",
    "    \n",
    "    except:\n",
    "        print('No Results Found')"
   ]
  },
  {
   "cell_type": "code",
   "execution_count": 16,
   "metadata": {},
   "outputs": [],
   "source": [
    "# searching and opening profile of \"sodelhi\""
   ]
  },
  {
   "cell_type": "code",
   "execution_count": 17,
   "metadata": {},
   "outputs": [
    {
     "name": "stderr",
     "output_type": "stream",
     "text": [
      "<ipython-input-15-a64d7761707a>:4: DeprecationWarning: find_element_by_class_name is deprecated. Please use find_element(by=By.CLASS_NAME, value=name) instead\n",
      "  search_box=driver.find_element_by_class_name('P0xOK').click()\n",
      "<ipython-input-15-a64d7761707a>:8: DeprecationWarning: find_element_by_class_name is deprecated. Please use find_element(by=By.CLASS_NAME, value=name) instead\n",
      "  search_box=driver.find_element_by_class_name('XTCLo')\n",
      "<ipython-input-15-a64d7761707a>:15: DeprecationWarning: find_element_by_class_name is deprecated. Please use find_element(by=By.CLASS_NAME, value=name) instead\n",
      "  driver.find_element_by_class_name('-qQT3').click()\n"
     ]
    }
   ],
   "source": [
    "search_open_profile('sodelhi')\n",
    "time.sleep(2)"
   ]
  },
  {
   "cell_type": "markdown",
   "metadata": {},
   "source": [
    "# QUESTION 4."
   ]
  },
  {
   "cell_type": "markdown",
   "metadata": {},
   "source": [
    "### 4.1"
   ]
  },
  {
   "cell_type": "code",
   "execution_count": 18,
   "metadata": {},
   "outputs": [],
   "source": [
    "# Open the Instagram Handle of “So Delhi”"
   ]
  },
  {
   "cell_type": "code",
   "execution_count": 19,
   "metadata": {},
   "outputs": [
    {
     "name": "stderr",
     "output_type": "stream",
     "text": [
      "<ipython-input-15-a64d7761707a>:4: DeprecationWarning: find_element_by_class_name is deprecated. Please use find_element(by=By.CLASS_NAME, value=name) instead\n",
      "  search_box=driver.find_element_by_class_name('P0xOK').click()\n",
      "<ipython-input-15-a64d7761707a>:8: DeprecationWarning: find_element_by_class_name is deprecated. Please use find_element(by=By.CLASS_NAME, value=name) instead\n",
      "  search_box=driver.find_element_by_class_name('XTCLo')\n",
      "<ipython-input-15-a64d7761707a>:15: DeprecationWarning: find_element_by_class_name is deprecated. Please use find_element(by=By.CLASS_NAME, value=name) instead\n",
      "  driver.find_element_by_class_name('-qQT3').click()\n"
     ]
    }
   ],
   "source": [
    "search_open_profile('sodelhi')\n",
    "time.sleep(2)"
   ]
  },
  {
   "cell_type": "markdown",
   "metadata": {},
   "source": [
    "### 4.2"
   ]
  },
  {
   "cell_type": "code",
   "execution_count": 20,
   "metadata": {},
   "outputs": [],
   "source": [
    "# function to follow an instagram handle if not following"
   ]
  },
  {
   "cell_type": "code",
   "execution_count": 21,
   "metadata": {},
   "outputs": [],
   "source": [
    "def follow():\n",
    "    try:\n",
    "        # wait until the element with that class is not available\n",
    "        wait=WebDriverWait(driver, 10).until(EC.presence_of_element_located((By.CLASS_NAME, \"_6VtSN\")))\n",
    "\n",
    "        # locating follow button\n",
    "        follow_btn=driver.find_element_by_class_name('_6VtSN')\n",
    "\n",
    "        # follow or already follwing\n",
    "        if follow_btn.text=='Follow':\n",
    "            follow_btn.click()\n",
    "        else:\n",
    "            print('Already Following')\n",
    "    except:\n",
    "        print('Error!')\n",
    "        print('Try Again')"
   ]
  },
  {
   "cell_type": "code",
   "execution_count": 22,
   "metadata": {},
   "outputs": [],
   "source": [
    "# following sodelhi handle"
   ]
  },
  {
   "cell_type": "code",
   "execution_count": 23,
   "metadata": {},
   "outputs": [
    {
     "name": "stderr",
     "output_type": "stream",
     "text": [
      "<ipython-input-21-ac073c1cb09e>:7: DeprecationWarning: find_element_by_class_name is deprecated. Please use find_element(by=By.CLASS_NAME, value=name) instead\n",
      "  follow_btn=driver.find_element_by_class_name('_6VtSN')\n"
     ]
    }
   ],
   "source": [
    "follow()"
   ]
  },
  {
   "cell_type": "markdown",
   "metadata": {},
   "source": [
    "### 4.3"
   ]
  },
  {
   "cell_type": "code",
   "execution_count": 24,
   "metadata": {},
   "outputs": [],
   "source": [
    "# function to unfollow an instagram handle if not unfollowed yet"
   ]
  },
  {
   "cell_type": "code",
   "execution_count": 25,
   "metadata": {},
   "outputs": [],
   "source": [
    "def unfollow():\n",
    "    try:\n",
    "        # wait until the element with that class is not available\n",
    "        wait=WebDriverWait(driver, 10).until(EC.presence_of_element_located((By.CLASS_NAME, \"_5f5mN\")))   \n",
    "        \n",
    "        # to find the btn to follow or unfollow\n",
    "        btn=driver.find_element_by_class_name('_5f5mN')\n",
    "\n",
    "        # unfollow or already unfollwed\n",
    "        if btn.text!='Follow':\n",
    "            btn.click()\n",
    "            time.sleep(2)\n",
    "            unfollow_btn=driver.find_element_by_class_name('-Cab_')\n",
    "            unfollow_btn.click()\n",
    "        else:\n",
    "            print('Already Unfollwed')\n",
    "    except:\n",
    "        print('Error!')\n",
    "        print('Try Again')        "
   ]
  },
  {
   "cell_type": "code",
   "execution_count": 26,
   "metadata": {},
   "outputs": [],
   "source": [
    "# unfollow sodelhi handle"
   ]
  },
  {
   "cell_type": "code",
   "execution_count": 27,
   "metadata": {},
   "outputs": [
    {
     "name": "stderr",
     "output_type": "stream",
     "text": [
      "<ipython-input-25-f977647d069b>:7: DeprecationWarning: find_element_by_class_name is deprecated. Please use find_element(by=By.CLASS_NAME, value=name) instead\n",
      "  btn=driver.find_element_by_class_name('_5f5mN')\n"
     ]
    },
    {
     "name": "stdout",
     "output_type": "stream",
     "text": [
      "Already Unfollwed\n"
     ]
    }
   ],
   "source": [
    "unfollow()"
   ]
  },
  {
   "cell_type": "markdown",
   "metadata": {},
   "source": [
    "# QUESTION 5."
   ]
  },
  {
   "cell_type": "markdown",
   "metadata": {},
   "source": [
    "## SEARCH AND OPEN PROFILE OF \"dilsefoodie\""
   ]
  },
  {
   "cell_type": "code",
   "execution_count": 28,
   "metadata": {},
   "outputs": [
    {
     "name": "stderr",
     "output_type": "stream",
     "text": [
      "<ipython-input-15-a64d7761707a>:4: DeprecationWarning: find_element_by_class_name is deprecated. Please use find_element(by=By.CLASS_NAME, value=name) instead\n",
      "  search_box=driver.find_element_by_class_name('P0xOK').click()\n",
      "<ipython-input-15-a64d7761707a>:8: DeprecationWarning: find_element_by_class_name is deprecated. Please use find_element(by=By.CLASS_NAME, value=name) instead\n",
      "  search_box=driver.find_element_by_class_name('XTCLo')\n",
      "<ipython-input-15-a64d7761707a>:15: DeprecationWarning: find_element_by_class_name is deprecated. Please use find_element(by=By.CLASS_NAME, value=name) instead\n",
      "  driver.find_element_by_class_name('-qQT3').click()\n"
     ]
    }
   ],
   "source": [
    "time.sleep(2)\n",
    "search_open_profile('dilsefoodie')"
   ]
  },
  {
   "cell_type": "markdown",
   "metadata": {},
   "source": [
    "### 5.1"
   ]
  },
  {
   "cell_type": "code",
   "execution_count": 29,
   "metadata": {},
   "outputs": [],
   "source": [
    "# to scroll enough to get desired data"
   ]
  },
  {
   "cell_type": "code",
   "execution_count": 30,
   "metadata": {},
   "outputs": [],
   "source": [
    "def scroll_down_up(n):\n",
    "    for i in range(n):\n",
    "        driver.execute_script('window.scrollBy(0,500);')\n",
    "        time.sleep(2)\n",
    "    driver.execute_script('window.scrollTo(0,500);')\n",
    "    time.sleep(2)"
   ]
  },
  {
   "cell_type": "code",
   "execution_count": 31,
   "metadata": {},
   "outputs": [],
   "source": [
    "# function to like posts"
   ]
  },
  {
   "cell_type": "code",
   "execution_count": 32,
   "metadata": {},
   "outputs": [],
   "source": [
    "def like_posts(total):\n",
    "    \n",
    "    try:\n",
    "        # to load the required data we need to scroll\n",
    "        scroll_down_up((total//6)+1)\n",
    "\n",
    "        # wait until this specific element is present\n",
    "        wait=WebDriverWait(driver,10).until(EC.presence_of_element_located((By.XPATH,'//div[contains(@class,\"Nnq7C\")]')))\n",
    "\n",
    "        # all posts\n",
    "        posts=driver.find_elements_by_xpath('//div[contains(@class,\"Nnq7C\")]/div/a')\n",
    "\n",
    "        # to keep the count of already liked posts\n",
    "        j=0\n",
    "\n",
    "        # loop to like the posts if not liked yet\n",
    "        for i in range(total):\n",
    "            posts[i].click()\n",
    "\n",
    "            # wait until this specific element is present\n",
    "            wait=WebDriverWait(driver,10).until(EC.presence_of_element_located((By.XPATH,'//section[contains(@class,\"Slqrh\")]')))\n",
    "            \n",
    "            # to locate like button\n",
    "            like_btn=driver.find_element_by_xpath('//span[contains(@class,\"fr66n\")]/button')\n",
    "            \n",
    "            # to check if the post is already liked or not\n",
    "            check = BeautifulSoup(like_btn.get_attribute('innerHTML'),\"html.parser\").svg['aria-label']\n",
    "            \n",
    "            if check=='Like':\n",
    "                like_btn.click()\n",
    "            else:\n",
    "                j=j+1\n",
    "                \n",
    "            time.sleep(2)\n",
    "            \n",
    "            # to close the post\n",
    "            close_btn=driver.find_element_by_xpath('//div[@class=\"NOTWr\"]/button')\n",
    "            close_btn.click()\n",
    "            \n",
    "        print('Already Liked Post -',j)\n",
    "        print('Liked Now -',total-j)\n",
    "        \n",
    "    except:\n",
    "        print('Error!')\n",
    "        print('Try Again')\n",
    "                "
   ]
  },
  {
   "cell_type": "code",
   "execution_count": 33,
   "metadata": {},
   "outputs": [],
   "source": [
    "# like top 30 posts of 'dilsefoodie'"
   ]
  },
  {
   "cell_type": "code",
   "execution_count": 34,
   "metadata": {},
   "outputs": [
    {
     "name": "stderr",
     "output_type": "stream",
     "text": [
      "<ipython-input-32-bce358dd24d6>:11: DeprecationWarning: find_elements_by_xpath is deprecated. Please use find_elements(by=By.XPATH, value=xpath) instead\n",
      "  posts=driver.find_elements_by_xpath('//div[contains(@class,\"Nnq7C\")]/div/a')\n",
      "<ipython-input-32-bce358dd24d6>:24: DeprecationWarning: find_element_by_xpath is deprecated. Please use find_element(by=By.XPATH, value=xpath) instead\n",
      "  like_btn=driver.find_element_by_xpath('//span[contains(@class,\"fr66n\")]/button')\n",
      "<ipython-input-32-bce358dd24d6>:37: DeprecationWarning: find_element_by_xpath is deprecated. Please use find_element(by=By.XPATH, value=xpath) instead\n",
      "  close_btn=driver.find_element_by_xpath('//div[@class=\"NOTWr\"]/button')\n"
     ]
    },
    {
     "name": "stdout",
     "output_type": "stream",
     "text": [
      "Already Liked Post - 0\n",
      "Liked Now - 30\n"
     ]
    }
   ],
   "source": [
    "like_posts(30)"
   ]
  },
  {
   "cell_type": "markdown",
   "metadata": {},
   "source": [
    "### 5.2"
   ]
  },
  {
   "cell_type": "markdown",
   "metadata": {},
   "source": [
    "## SCROLL UP TO THE START"
   ]
  },
  {
   "cell_type": "code",
   "execution_count": 35,
   "metadata": {},
   "outputs": [],
   "source": [
    "time.sleep(2)\n",
    "driver.execute_script('window.scrollTo(0,0);')\n",
    "time.sleep(2)"
   ]
  },
  {
   "cell_type": "code",
   "execution_count": 36,
   "metadata": {},
   "outputs": [],
   "source": [
    "# function to unlike posts"
   ]
  },
  {
   "cell_type": "code",
   "execution_count": 37,
   "metadata": {},
   "outputs": [],
   "source": [
    "def unlike_posts(total):\n",
    "    \n",
    "    try:\n",
    "        # to load the required data we need to scroll\n",
    "        scroll_down_up((total//6)+1)\n",
    "\n",
    "        # wait until this specific element is present\n",
    "        wait=WebDriverWait(driver,10).until(EC.presence_of_element_located((By.XPATH,'//div[contains(@class,\"Nnq7C\")]')))\n",
    "\n",
    "        # all posts\n",
    "        posts=driver.find_elements_by_xpath('//div[contains(@class,\"Nnq7C\")]/div/a')\n",
    "\n",
    "        # to keep the count of already unliked posts\n",
    "        j=0\n",
    "\n",
    "        # loop to unlike the posts if not unliked yet\n",
    "        for i in range(total):\n",
    "            posts[i].click()\n",
    "\n",
    "            # wait until this specific element is present\n",
    "            wait=WebDriverWait(driver,10).until(EC.presence_of_element_located((By.XPATH,'//section[contains(@class,\"Slqrh\")]')))\n",
    "            \n",
    "            # to locate unlike button\n",
    "            unlike_btn=driver.find_element_by_xpath('//span[contains(@class,\"fr66n\")]/button')\n",
    "            \n",
    "            # to check if the post is already liked or not\n",
    "            check = BeautifulSoup(unlike_btn.get_attribute('innerHTML'),\"html.parser\").svg['aria-label']\n",
    "            \n",
    "            if check!='Like':\n",
    "                unlike_btn.click()\n",
    "            else:\n",
    "                j=j+1\n",
    "                \n",
    "            time.sleep(2)\n",
    "            \n",
    "            # to close the post\n",
    "            close_btn=driver.find_element_by_xpath('//div[@class=\"NOTWr\"]/button')\n",
    "            close_btn.click()\n",
    "            \n",
    "        print('Already Unliked Post -',j)\n",
    "        print('unliked Now -',total-j)\n",
    "        \n",
    "    except:\n",
    "        print('Error!')\n",
    "        print('Try Again')\n",
    "                "
   ]
  },
  {
   "cell_type": "code",
   "execution_count": 38,
   "metadata": {},
   "outputs": [],
   "source": [
    "# unlike top 30 posts of 'dilsefoodie'"
   ]
  },
  {
   "cell_type": "code",
   "execution_count": 39,
   "metadata": {},
   "outputs": [
    {
     "name": "stderr",
     "output_type": "stream",
     "text": [
      "<ipython-input-37-467c2b211c13>:11: DeprecationWarning: find_elements_by_xpath is deprecated. Please use find_elements(by=By.XPATH, value=xpath) instead\n",
      "  posts=driver.find_elements_by_xpath('//div[contains(@class,\"Nnq7C\")]/div/a')\n",
      "<ipython-input-37-467c2b211c13>:24: DeprecationWarning: find_element_by_xpath is deprecated. Please use find_element(by=By.XPATH, value=xpath) instead\n",
      "  unlike_btn=driver.find_element_by_xpath('//span[contains(@class,\"fr66n\")]/button')\n",
      "<ipython-input-37-467c2b211c13>:37: DeprecationWarning: find_element_by_xpath is deprecated. Please use find_element(by=By.XPATH, value=xpath) instead\n",
      "  close_btn=driver.find_element_by_xpath('//div[@class=\"NOTWr\"]/button')\n"
     ]
    },
    {
     "name": "stdout",
     "output_type": "stream",
     "text": [
      "Already Unliked Post - 0\n",
      "unliked Now - 30\n"
     ]
    }
   ],
   "source": [
    "unlike_posts(30)"
   ]
  },
  {
   "cell_type": "markdown",
   "metadata": {},
   "source": [
    "# QUESTION 6."
   ]
  },
  {
   "cell_type": "markdown",
   "metadata": {},
   "source": [
    "### 6.1"
   ]
  },
  {
   "cell_type": "markdown",
   "metadata": {},
   "source": [
    "## SCROLL BACK TO THE TOP"
   ]
  },
  {
   "cell_type": "code",
   "execution_count": 40,
   "metadata": {},
   "outputs": [],
   "source": [
    "time.sleep(2)\n",
    "driver.execute_script('window.scrollTo(0,0);')\n",
    "time.sleep(2)"
   ]
  },
  {
   "cell_type": "code",
   "execution_count": 41,
   "metadata": {},
   "outputs": [],
   "source": [
    "# function to extract followers"
   ]
  },
  {
   "cell_type": "code",
   "execution_count": 42,
   "metadata": {},
   "outputs": [],
   "source": [
    "def extract_followers(total):\n",
    "    try:      \n",
    "        # wait until this specific element is present\n",
    "        wait=WebDriverWait(driver,10).until(EC.presence_of_all_elements_located((By.CLASS_NAME,'g47SY')))\n",
    "             \n",
    "        # locating button for list of followers and opening it\n",
    "        followers_btn=wait[1]\n",
    "        followers_btn.click()\n",
    "        \n",
    "        #locating to scroll and access followers list\n",
    "        frame=driver.find_element_by_class_name('jSC57')\n",
    "        \n",
    "        #scrolling untill particular number of users is located\n",
    "        for i in range(total//2):\n",
    "            time.sleep(1)\n",
    "            driver.execute_script(\"arguments[0].scrollIntoView(0, 100);\",frame)\n",
    "        \n",
    "        usernames = []\n",
    "        #extracting userdata\n",
    "        followers = driver.find_elements_by_xpath('//a[contains(@class,\"notranslate\")]/span')\n",
    "        \n",
    "        #extracting username\n",
    "        for i in followers[:total] :\n",
    "            usernames.append(i.get_attribute('innerHTML'))\n",
    "            \n",
    "        driver.find_element_by_xpath('//div[contains(@class,\"lC6p0\")]/button').click()\n",
    "            \n",
    "        return usernames        \n",
    "\n",
    "        \n",
    "    except:\n",
    "        print('Error')\n",
    "        print('Try Again')"
   ]
  },
  {
   "cell_type": "markdown",
   "metadata": {},
   "source": [
    "## SEARCH AND OPEN 'FOODTALKINDIA' AND EXTRACT FIRST 500 FOLLOWERS "
   ]
  },
  {
   "cell_type": "code",
   "execution_count": 46,
   "metadata": {},
   "outputs": [
    {
     "name": "stderr",
     "output_type": "stream",
     "text": [
      "<ipython-input-15-a64d7761707a>:4: DeprecationWarning: find_element_by_class_name is deprecated. Please use find_element(by=By.CLASS_NAME, value=name) instead\n",
      "  search_box=driver.find_element_by_class_name('P0xOK').click()\n",
      "<ipython-input-15-a64d7761707a>:8: DeprecationWarning: find_element_by_class_name is deprecated. Please use find_element(by=By.CLASS_NAME, value=name) instead\n",
      "  search_box=driver.find_element_by_class_name('XTCLo')\n",
      "<ipython-input-15-a64d7761707a>:15: DeprecationWarning: find_element_by_class_name is deprecated. Please use find_element(by=By.CLASS_NAME, value=name) instead\n",
      "  driver.find_element_by_class_name('-qQT3').click()\n",
      "<ipython-input-42-1e82e1331919>:11: DeprecationWarning: find_element_by_class_name is deprecated. Please use find_element(by=By.CLASS_NAME, value=name) instead\n",
      "  frame=driver.find_element_by_class_name('jSC57')\n",
      "<ipython-input-42-1e82e1331919>:20: DeprecationWarning: find_elements_by_xpath is deprecated. Please use find_elements(by=By.XPATH, value=xpath) instead\n",
      "  followers = driver.find_elements_by_xpath('//a[contains(@class,\"notranslate\")]/span')\n",
      "<ipython-input-42-1e82e1331919>:26: DeprecationWarning: find_element_by_xpath is deprecated. Please use find_element(by=By.XPATH, value=xpath) instead\n",
      "  driver.find_element_by_xpath('//div[contains(@class,\"lC6p0\")]/button').click()\n"
     ]
    },
    {
     "name": "stdout",
     "output_type": "stream",
     "text": [
      "0 its_par_na\n",
      "1 cl__me__yogesh\n",
      "2 rohitsharma9179\n",
      "3 iam_rahulgusain\n",
      "4 anjuvarma\n",
      "5 ajay_biswas22\n",
      "6 dbharathgowda\n",
      "7 varun_vig\n",
      "8 editing_master_76\n",
      "9 rheasahuu\n",
      "10 ashwin_romy\n",
      "11 neeraj.meena.jnv\n",
      "12 thedelhigirl\n",
      "13 ravneettuteja\n",
      "14 divyansh_7781\n",
      "15 sanjana10623\n",
      "16 24_seven_7\n",
      "17 umranala_city_\n",
      "18 wild_soul21\n",
      "19 divyadhirwani\n",
      "20 snoopyhead_\n",
      "21 vanshikachaudhry\n",
      "22 foodblogandshiz\n",
      "23 vegfood_felicity\n",
      "24 __kejal__\n",
      "25 anji8398\n",
      "26 avnish_tiwari\n",
      "27 rjg.pvt\n",
      "28 fantasyweddingz\n",
      "29 chinmayd7\n",
      "30 sayani._8\n",
      "31 indian_foodblogs\n",
      "32 123creator_girl\n",
      "33 kushwaha_kanchan_1997\n",
      "34 atruejoanna\n",
      "35 kil0jul\n",
      "36 canwenat\n",
      "37 consciously_yours_john\n",
      "38 beena_khoja\n",
      "39 natashachadha_\n",
      "40 bombletts\n",
      "41 hearttoheart_9\n",
      "42 khadad_bandya\n",
      "43 aryen.negi\n",
      "44 sheffalikusumgar\n",
      "45 palriwalasha\n",
      "46 upsale29\n",
      "47 rahul_140\n",
      "48 kinjallpandit\n",
      "49 wicked_bites\n",
      "50 cdltv\n",
      "51 geeta.ganga\n",
      "52 sa.ra.n.sh\n",
      "53 itzz__aachal_\n",
      "54 dev2pandit\n",
      "55 verocoffeeworld\n",
      "56 krishanjatav_official_8826\n",
      "57 aberokii\n",
      "58 lemos5350\n",
      "59 ravigupta152\n",
      "60 jeonjungkook._666\n",
      "61 navneet_ahuja20\n",
      "62 5k4_a\n",
      "63 dew._dropz.___\n",
      "64 khane_ki_duniyaa\n",
      "65 nitish_saini957\n",
      "66 diamond_associates_kanpur\n",
      "67 anaghakapil\n",
      "68 sunshine_shine_96\n",
      "69 n1chawla\n",
      "70 ishita96\n",
      "71 subita06\n",
      "72 rruchi13\n",
      "73 priyam_chawla\n",
      "74 kshiti26\n",
      "75 ak_thakur567\n",
      "76 khushibhatia__\n",
      "77 akashkhungar\n",
      "78 yousha.rathod\n",
      "79 candidshotexpert\n",
      "80 fidato411\n",
      "81 natasha10dsouza\n",
      "82 shrav.ya.yaar\n",
      "83 coffee.shoffee\n",
      "84 tahseemkhanakbar\n",
      "85 ridhimaj\n",
      "86 ruchibabbar\n",
      "87 diishakumar\n",
      "88 peterchua.bar\n",
      "89 vidur.siddamsetty\n",
      "90 gurpreet.7425\n",
      "91 doobie_scooo\n",
      "92 idrishti\n",
      "93 being_vaishu6400\n",
      "94 kshitijanandmusic\n",
      "95 anushka_dua\n",
      "96 i.am.priyanka\n",
      "97 vidhiverma_acoutureatelier\n",
      "98 kinnery_jogani\n",
      "99 deepak_basavaraj\n",
      "100 rahullal6\n",
      "101 rikhosla97\n",
      "102 realsaksham989\n",
      "103 rajanisingh83\n",
      "104 pradeepaggarwal1970\n",
      "105 pankaj.d.jain\n",
      "106 aarondsilva_\n",
      "107 kirangoelgupta\n",
      "108 sourtints\n",
      "109 rashibajaj2013\n",
      "110 yashodhadandona\n",
      "111 antique23one\n",
      "112 avdheshkumarparzapati\n",
      "113 chandnik331\n",
      "114 sanjanaverma1110\n",
      "115 sazique_shaikh_7869\n",
      "116 deejillnoize\n",
      "117 shradhasalaria\n",
      "118 radhikasemwal_\n",
      "119 wideeyedwanderer\n",
      "120 muskan.2825\n",
      "121 ashher_zafar\n",
      "122 anchal20\n",
      "123 parul2039\n",
      "124 divyakshiii\n",
      "125 priyaljainn_\n",
      "126 idklaterk\n",
      "127 aaki_agg\n",
      "128 habidiking\n",
      "129 aeshanigarg\n",
      "130 rachana_kabra\n",
      "131 poojas_cake_studio\n",
      "132 rajivtalwar79\n",
      "133 akshat599\n",
      "134 alagjaspreet\n",
      "135 jasminemonga\n",
      "136 absingh0666\n",
      "137 bakliwal.renu\n",
      "138 ajay_nayak_0033\n",
      "139 karan958l\n",
      "140 shriyarajchauhan\n",
      "141 akash_pseudo\n",
      "142 hina.jain\n",
      "143 aradhanajain09\n",
      "144 jibhalavi\n",
      "145 ankur_sharma_56\n",
      "146 cool.486boy\n",
      "147 ansh.p17\n",
      "148 arbaz.h_\n",
      "149 xx__attitude__king_raj__xx\n",
      "150 arpitapathak1208\n",
      "151 _wuwilliam\n",
      "152 vowsandbeyond.in\n",
      "153 clayoven.in\n",
      "154 badriparshad_05\n",
      "155 the_jayramani\n",
      "156 sarfaraj5719\n",
      "157 sh.ailesh8433\n",
      "158 icyy_sakshi___678\n",
      "159 julianshah7\n",
      "160 prajwal8321\n",
      "161 deepak_garg1990\n",
      "162 vive.kkumar903\n",
      "163 matiramtim\n",
      "164 houmepiper\n",
      "165 dineout_in\n",
      "166 nchaw\n",
      "167 smitapandey1988\n",
      "168 stillhungry1894\n",
      "169 harshitasharma021\n",
      "170 navyasimranchhabra\n",
      "171 aditya_sharma198\n",
      "172 mohit.sancheti15\n",
      "173 hadi.ya7772\n",
      "174 dreetesh\n",
      "175 eat_chill_sleep.repeat\n",
      "176 djmocity\n",
      "177 countryman_official\n",
      "178 dhruvv.tandon\n",
      "179 muskikitchen\n",
      "180 umangjindal\n",
      "181 agritik.in\n",
      "182 sethmarusethmaru\n",
      "183 lokendrapundir\n",
      "184 kshubham\n",
      "185 gunwant_sc\n",
      "186 miss_vrutika_patel_05_02\n",
      "187 ramesh_reddy004\n",
      "188 dishamalhotrajulka\n",
      "189 prafi234\n",
      "190 patnaik_kamal\n",
      "191 chiraggupta28\n",
      "192 hamza_n.y.c\n",
      "193 aman390\n",
      "194 chawla_roc\n",
      "195 satya_sai_baba_09\n",
      "196 paraspugalia\n",
      "197 sandhya.jayakumar.90\n",
      "198 annu_sk_05\n",
      "199 __shukladikssha21__\n",
      "200 bar_chef27\n",
      "201 ashishswami1997\n",
      "202 foodflair_hyderabad\n",
      "203 gaga_over_gram\n",
      "204 maisonmagi\n",
      "205 rahmamagdy75\n",
      "206 prem0614\n",
      "207 creative_warbler\n",
      "208 surabhivohra91\n",
      "209 vikinster\n",
      "210 rum_for_you\n",
      "211 aditiashok\n",
      "212 me_ur_shanky\n",
      "213 the_dark_ur\n",
      "214 chatterjeerajiv\n",
      "215 naseem4899khan\n",
      "216 official_eventdaddy\n",
      "217 nigel198017\n",
      "218 fisherboys_freshfish\n",
      "219 be_foodie_with_sam\n",
      "220 food_picked\n",
      "221 amitrathi._\n",
      "222 shreyans_parikh\n",
      "223 skylanterndelhi\n",
      "224 sst8988gmail.com9178\n",
      "225 expodemic\n",
      "226 vanshikaa610\n",
      "227 nanu_unknwn\n",
      "228 roritta_om\n",
      "229 baisa_hkm_jaisana\n",
      "230 saumyadas6\n",
      "231 asha.bairagya.9\n",
      "232 mohit_narain\n",
      "233 findmeadinner\n",
      "234 cravingsolutionjaipur\n",
      "235 baisoya_aman\n",
      "236 karan23kohli\n",
      "237 ganeshaeksanskriti\n",
      "238 pandeyabhi_shek\n",
      "239 sheenam394\n",
      "240 raginisinghseth\n",
      "241 shaurya31ahuja\n",
      "242 oojaswini_\n",
      "243 nizu8964\n",
      "244 angads31\n",
      "245 healthy_foodism\n",
      "246 martinkonrad9\n",
      "247 sardarrumanazad\n",
      "248 poplitesnacks\n",
      "249 karanvermaa15\n",
      "250 shreya_d21\n",
      "251 katil_boy_uttam_\n",
      "252 shahpaneri17\n",
      "253 all.nosh\n",
      "254 simrannarang86\n",
      "255 freaky_fred_creep_\n",
      "256 santoshgupta555\n",
      "257 kiransugandhi\n",
      "258 karishma.chhabra777\n",
      "259 arushi_1707\n",
      "260 seshabhattaraarudra_\n",
      "261 ambhure.tukaram\n",
      "262 themalabarcoast_\n",
      "263 villotale\n",
      "264 naman_singhhh\n",
      "265 masalafoodtales\n",
      "266 the_ranchi_next\n",
      "267 nicoles_plate_of_flavours\n",
      "268 bhagya_25\n",
      "269 refectionsindia\n",
      "270 shivam.dhawan1598\n",
      "271 maans__iii\n",
      "272 ias_91\n",
      "273 opastadelhi\n",
      "274 _rohan_aggarwal_\n",
      "275 hkochhar\n",
      "276 deepanshu45\n",
      "277 umesh_damo\n",
      "278 shilpop\n",
      "279 mr.perfect3814\n",
      "280 mansionzbylivingliquidz\n",
      "281 riddlesmakemesmile\n",
      "282 _snow_child\n",
      "283 _cheapest_likes_followers_view\n",
      "284 mlrdad7\n",
      "285 djkezzi\n",
      "286 jiqyphau\n",
      "287 zaffran_mataam_al_arabi\n",
      "288 the_tastes_of_ind\n",
      "289 salhotra_karan\n",
      "290 serialcookersofficial\n",
      "291 _luv_yaa_\n",
      "292 a_t_h_o_y_pipra\n",
      "293 bhavi_n9282\n",
      "294 garimamishra_0\n",
      "295 yoshita_garodia\n",
      "296 kritika0996\n",
      "297 nknaveenagarwal\n",
      "298 aanchal.05\n",
      "299 barni.pickles\n",
      "300 hs689u\n",
      "301 mtlytmym\n",
      "302 joelrodriguez8242\n",
      "303 monikasepehya\n",
      "304 eyepalate\n",
      "305 ravina_shinde026\n",
      "306 thenishantmehta\n",
      "307 ritanjaygosain\n",
      "308 parinachopra\n",
      "309 pranavnarula09\n",
      "310 cravingsforcooking\n",
      "311 tithi.goel\n",
      "312 kleodelhi\n",
      "313 valmikd\n",
      "314 pbo_2_sa.hil_307\n",
      "315 sahebchh\n",
      "316 smritigarodia\n",
      "317 sweaterpayal\n",
      "318 _shalinigram\n",
      "319 iqrut.kataria\n",
      "320 karan_dhand\n",
      "321 arjun_maniktala22\n",
      "322 c.studios_chd\n",
      "323 sonali0409\n",
      "324 anjuskitchen_\n",
      "325 oshxmaroon\n",
      "326 grad_eater\n",
      "327 our_food_show\n",
      "328 tarun_pandat98\n",
      "329 nabcentreforwomen\n",
      "330 ksumbultouqeer\n",
      "331 drinkswithfarmer\n",
      "332 kamalamartinez\n",
      "333 callmeshukla\n",
      "334 ascii_art_000\n",
      "335 teghbir\n",
      "336 chezinofficial\n",
      "337 eternalramblings\n",
      "338 kenzaniofficial\n",
      "339 chandravanshi_lover_420\n",
      "340 taweeeeneeee\n",
      "341 chef_beenz\n",
      "342 to_her_focus_8\n",
      "343 eatthisuttarpradesh\n",
      "344 m__u_s_t_h_u\n",
      "345 monginis.aurangabad\n",
      "346 neha.r.malviya\n",
      "347 mesmerizing_manisha9\n",
      "348 puneetmehta95\n",
      "349 vaibhavanandphotography\n",
      "350 waztheman\n",
      "351 sehreenkhundmiri\n",
      "352 sazid_782446\n",
      "353 eliane_artec_arcondicionado\n",
      "354 abhishek.tikoo\n",
      "355 tanyadesousa11\n",
      "356 febulous_feb_boy\n",
      "357 thebatterbae\n",
      "358 ajayrana1439\n",
      "359 gurnoorkaurbehl\n",
      "360 sonaideya\n",
      "361 nimittraitiwari\n",
      "362 goyalvasu993\n",
      "363 nidhik764\n",
      "364 riddhimarora\n",
      "365 kabirgroverr\n",
      "366 preetichhillar7\n",
      "367 himanshu00081\n",
      "368 chilli_tomatoes\n",
      "369 ruchichawla12\n",
      "370 education_analyst\n",
      "371 haseebkaspar\n",
      "372 anushka3654\n",
      "373 miss_withnojob\n",
      "374 mr_a_t_sahu6868\n",
      "375 surajkathayat1\n",
      "376 ankitvastava\n",
      "377 poojajajodia\n",
      "378 bhumika_25\n",
      "379 gpriyanshu909\n",
      "380 prejithaspramod\n",
      "381 sehgal_ishu\n",
      "382 koreanfood_seelamart\n",
      "383 sushmitamalakar\n",
      "384 sameer_raj_singhaniya\n",
      "385 bhupes_singh\n",
      "386 eeshtagupta\n",
      "387 ritusaraf777\n",
      "388 chiragmshah5353\n",
      "389 _tusharrgupta\n",
      "390 varient_1995\n",
      "391 life_in_backpack\n",
      "392 sad__udasi\n",
      "393 funny_men444\n",
      "394 garimapawa\n",
      "395 ll_word.smith_ll\n",
      "396 travel.with.rajesh\n",
      "397 khushboo_bohra\n",
      "398 supriya.123\n",
      "399 phalguni.aneja\n",
      "400 shivangi.2525\n",
      "401 peppypriyanka\n",
      "402 parullakhanpal2015\n",
      "403 devahishmichael\n",
      "404 singhchaudharydev\n",
      "405 animesh_0407\n",
      "406 chungwa_gk2\n",
      "407 dr._manee\n",
      "408 shahid.09.14\n",
      "409 magicofcurls\n",
      "410 yamini_rawat\n",
      "411 radhikajoshi23\n",
      "412 sonali.duggal\n",
      "413 prince1anil\n",
      "414 arush.gallery\n",
      "415 dr_ridimaa_kamal\n",
      "416 gurkirpalsethi\n",
      "417 rawat_rawat_tawat_rawat_\n",
      "418 _barsha_21\n",
      "419 alisha.virmani\n",
      "420 rajsh_prats\n",
      "421 uddhritibhowmick\n",
      "422 akanksha019\n",
      "423 nvr_decors\n",
      "424 __the_shining_star___\n",
      "425 bhandariyoginder\n",
      "426 jatins2912\n",
      "427 niteshsahni\n",
      "428 _l_09_t\n",
      "429 shivakumar_2612\n",
      "430 monginiskolhapur\n",
      "431 tribal__raja__group\n",
      "432 shinchan.227\n",
      "433 chikuchiku20986\n",
      "434 lakids4997\n",
      "435 chandra_prakash_balrewa\n",
      "436 hemant4279\n",
      "437 khan.aubas\n",
      "438 sanjeetmandal_\n",
      "439 shrishti_jaiswall\n",
      "440 bassir.md\n",
      "441 pratima13_a12\n",
      "442 fidha140806\n",
      "443 pranav.wele\n",
      "444 sharma____vivek\n",
      "445 shar_leen1915\n",
      "446 gurneetdhingramakeovers\n",
      "447 foodnexplore2022\n",
      "448 beawltered\n",
      "449 twentieskamlanagar\n",
      "450 bhvchp20\n",
      "451 i_mdhruva\n",
      "452 sallys_96\n",
      "453 linnet.dsouza\n",
      "454 kunal013\n",
      "455 pinkiyadav1509\n",
      "456 manrajthind\n",
      "457 radhika.singh22\n",
      "458 shivank_riyal\n",
      "459 vegitarian_nawab\n",
      "460 anazmohmmd\n",
      "461 lakkufoodfactory\n",
      "462 indian.2354\n",
      "463 anishac26\n",
      "464 israniradhika\n",
      "465 kanikacairae\n",
      "466 akshadabhatchavan\n",
      "467 humsabkaadvisor\n",
      "468 aman_kumar2616\n",
      "469 amritamsharma\n",
      "470 harshnanda_don\n",
      "471 navyaa.92\n",
      "472 anks_agg\n",
      "473 blushbysubah\n",
      "474 live__travel__eat\n",
      "475 n2010mal\n",
      "476 nicolapinto06__\n",
      "477 bvegfoods\n",
      "478 umang_khokhar\n",
      "479 prabhtojsingh\n",
      "480 x_mr.danish\n",
      "481 ag_anshu\n",
      "482 suryanshduggal\n",
      "483 agirllostinherworld\n",
      "484 chhavichhibber\n",
      "485 annie_jain01\n",
      "486 amol_palekar35\n",
      "487 ashish0002\n",
      "488 dumbo663\n",
      "489 culinaryartsmanipur\n",
      "490 bukmuklibrary\n",
      "491 jyoti.priyadarshi\n",
      "492 stellaa_thegoldenretriever\n",
      "493 janet_ningthoujam\n",
      "494 angadsingh93\n",
      "495 amankaur29\n",
      "496 umeshhsharma\n",
      "497 ritesh_das1998\n",
      "498 skinnco06\n",
      "499 charviverma\n"
     ]
    }
   ],
   "source": [
    "# search and open\n",
    "search_open_profile('foodtalkindia')\n",
    "\n",
    "# extract followers\n",
    "username=extract_followers(500)\n",
    "\n",
    "# printing the extracted usernames\n",
    "for i in range(len(username)):\n",
    "    print(i,username[i])\n",
    "time.sleep(2)"
   ]
  },
  {
   "cell_type": "markdown",
   "metadata": {},
   "source": [
    "## SEARCH AND OPEN 'SODELHI' AND EXTRACT FIRST 500 FOLLOWERS "
   ]
  },
  {
   "cell_type": "code",
   "execution_count": 48,
   "metadata": {},
   "outputs": [
    {
     "name": "stderr",
     "output_type": "stream",
     "text": [
      "<ipython-input-15-a64d7761707a>:4: DeprecationWarning: find_element_by_class_name is deprecated. Please use find_element(by=By.CLASS_NAME, value=name) instead\n",
      "  search_box=driver.find_element_by_class_name('P0xOK').click()\n",
      "<ipython-input-15-a64d7761707a>:8: DeprecationWarning: find_element_by_class_name is deprecated. Please use find_element(by=By.CLASS_NAME, value=name) instead\n",
      "  search_box=driver.find_element_by_class_name('XTCLo')\n",
      "<ipython-input-15-a64d7761707a>:15: DeprecationWarning: find_element_by_class_name is deprecated. Please use find_element(by=By.CLASS_NAME, value=name) instead\n",
      "  driver.find_element_by_class_name('-qQT3').click()\n",
      "<ipython-input-42-1e82e1331919>:11: DeprecationWarning: find_element_by_class_name is deprecated. Please use find_element(by=By.CLASS_NAME, value=name) instead\n",
      "  frame=driver.find_element_by_class_name('jSC57')\n",
      "<ipython-input-42-1e82e1331919>:20: DeprecationWarning: find_elements_by_xpath is deprecated. Please use find_elements(by=By.XPATH, value=xpath) instead\n",
      "  followers = driver.find_elements_by_xpath('//a[contains(@class,\"notranslate\")]/span')\n",
      "<ipython-input-42-1e82e1331919>:26: DeprecationWarning: find_element_by_xpath is deprecated. Please use find_element(by=By.XPATH, value=xpath) instead\n",
      "  driver.find_element_by_xpath('//div[contains(@class,\"lC6p0\")]/button').click()\n"
     ]
    },
    {
     "name": "stdout",
     "output_type": "stream",
     "text": [
      "0 sak.shi0425\n",
      "1 designerdobyalbanana\n",
      "2 mine_forever_shatakshi_maan\n",
      "3 jainsarthak089\n",
      "4 ishu__ishita\n",
      "5 muskanlakhmani12\n",
      "6 bilal__nawaz\n",
      "7 nandinixkhandelwal\n",
      "8 pratibha.jhawar28\n",
      "9 srishti_garg29\n",
      "10 _gaurav_bhatt_\n",
      "11 devashrim\n",
      "12 kartikkkkkkkk\n",
      "13 sheetal_203\n",
      "14 manuharjoshi\n",
      "15 ishiiii.27\n",
      "16 1p1r1i1y1a1g1\n",
      "17 mayankmaithani\n",
      "18 satiateceleste\n",
      "19 djtaizin\n",
      "20 bie.bieiiiiiii\n",
      "21 sakshigupta12\n",
      "22 neet2602\n",
      "23 paranjaymanchanda007\n",
      "24 joanne_tusing24\n",
      "25 amina_memon_\n",
      "26 _____gauri____\n",
      "27 komal._.gupta12\n",
      "28 hardik_gupta_22\n",
      "29 farheen_bhatt\n",
      "30 ainam_taslim_raza\n",
      "31 rishabh_chauhan.77\n",
      "32 myra_singh16\n",
      "33 molie1989\n",
      "34 agrwlnitika\n",
      "35 a9wara\n",
      "36 b_h_u_m_i9\n",
      "37 garimamgrover\n",
      "38 salonii_maheshwari\n",
      "39 radhika0001\n",
      "40 aayushi_i_\n",
      "41 richalina_7\n",
      "42 thecrazycurls_\n",
      "43 panttneha\n",
      "44 prabhav_1234\n",
      "45 anshikabhardwaj_\n",
      "46 veditailors\n",
      "47 psycho_noodlehead\n",
      "48 _sanaya_singh_\n",
      "49 kashishtank_\n",
      "50 me_bhawna873\n",
      "51 shwetasunshine\n",
      "52 harmeshgautam\n",
      "53 jahnvidahiya_07\n",
      "54 sanchika_gupta\n",
      "55 adroit_fabricators\n",
      "56 ajay_biswas22\n",
      "57 amulyaa_sehgal\n",
      "58 _parvathirajan\n",
      "59 prag.ughhh\n",
      "60 papi_anchall\n",
      "61 rritikaaa\n",
      "62 ayushi_nigam_\n",
      "63 left_hander_girl\n",
      "64 surbhi.garg.399488\n",
      "65 britss.pvt\n",
      "66 abhi.swar\n",
      "67 _vanshika_07_\n",
      "68 pranks_jain\n",
      "69 cinderbelle28\n",
      "70 yasharora696\n",
      "71 radz230192\n",
      "72 prerna_01\n",
      "73 _choudhary_._1307_\n",
      "74 guptadrishti03\n",
      "75 mamtas_3\n",
      "76 asda_sin\n",
      "77 vishrutjain27\n",
      "78 akshayjuneja17\n",
      "79 aldanam_gr\n",
      "80 nishtha_05\n",
      "81 abhi83jain\n",
      "82 adi.ti486\n",
      "83 neha__2034\n",
      "84 tanu_wayfarer\n",
      "85 khushi.shah28\n",
      "86 piyaa1904\n",
      "87 prateek.s7\n",
      "88 shivanii0323\n",
      "89 yaarrshreyaa\n",
      "90 smiley_boy_8751\n",
      "91 saatvik5\n",
      "92 mamta.sharma.1010\n",
      "93 disha__monga\n",
      "94 s._.pvttttt\n",
      "95 sweety_kaur70\n",
      "96 sengar_kuldeep_\n",
      "97 genius._generous\n",
      "98 rav4nn\n",
      "99 foodz.in\n",
      "100 mattasomya\n",
      "101 tavneettt\n",
      "102 sehgal.megha\n",
      "103 _sra_26\n",
      "104 naz.meenparvez\n",
      "105 ar.anukunwar\n",
      "106 sanjanamalhotra07\n",
      "107 crochetmantra\n",
      "108 sumit_chauhan9\n",
      "109 _manish_.22\n",
      "110 rupashiagarwal\n",
      "111 irasaluja14\n",
      "112 dimple9_\n",
      "113 niketaanand_11\n",
      "114 iampukla\n",
      "115 akansha_rathoresingh\n",
      "116 _ravenclaw04\n",
      "117 colorisnature\n",
      "118 domgillan\n",
      "119 ayushirastogii\n",
      "120 uditpal_official\n",
      "121 abstractionsofp\n",
      "122 kajalll_17\n",
      "123 foodadventure16\n",
      "124 its_uzair_saleem\n",
      "125 gaura24\n",
      "126 24_seven_7\n",
      "127 pranjal_lakhotia\n",
      "128 teedolma_93\n",
      "129 dhriitii.jain\n",
      "130 monicagellerr._\n",
      "131 niharikagupta02\n",
      "132 drishtigoyal10\n",
      "133 _.poemgabha\n",
      "134 sarvagya_chawla\n",
      "135 shubham_verma_who\n",
      "136 _aayushiii_14_\n",
      "137 _vidushiiiy_\n",
      "138 rubynidal\n",
      "139 raji_chadha\n",
      "140 kaanikkaaaa\n",
      "141 kanikakaur2\n",
      "142 srishti.gupta.0512\n",
      "143 smorya1\n",
      "144 tastytablestory\n",
      "145 menon.kriti\n",
      "146 drish.krishnan\n",
      "147 mystically__artistic\n",
      "148 cacophony_of_ocean\n",
      "149 _amann22\n",
      "150 siimii.saini\n",
      "151 siddharthparekh.98\n",
      "152 iammansisharma\n",
      "153 anshika_capricornnnn\n",
      "154 prbleenk\n",
      "155 chayansatija_\n",
      "156 akshaygarg.19\n",
      "157 devanshi_keshwani\n",
      "158 harxhi_\n",
      "159 ravigurung1996\n",
      "160 ritikamalhotra5\n",
      "161 vickyark\n",
      "162 chill_housevk\n",
      "163 khu_sh\n",
      "164 cheenukirasoi\n",
      "165 haseeb__haroon__\n",
      "166 rk8000760\n",
      "167 __.isshaa.__\n",
      "168 official_yadav_nee2\n",
      "169 ankku_bebo\n",
      "170 kartiksingh_oo7\n",
      "171 pavithra_p01\n",
      "172 mikrokosmosworld\n",
      "173 complacent_me\n",
      "174 prakharsingh1995\n",
      "175 sahilmhjn\n",
      "176 kriti_kharwar\n",
      "177 kopal2310\n",
      "178 splinter_9911\n",
      "179 _mystic_me__\n",
      "180 puneet4410\n",
      "181 salujajuhi\n",
      "182 ishitajain0512\n",
      "183 nupurr_jn\n",
      "184 tushar__.jain\n",
      "185 artiawasthi_\n",
      "186 muhmd.muflih\n",
      "187 iamkd_92\n",
      "188 tanyadodeja\n",
      "189 ashutoshtripathiii\n",
      "190 aditiikashyap\n",
      "191 reshal_gupta05\n",
      "192 tinyxtams\n",
      "193 rami_rzz\n",
      "194 kakkaraashima34\n",
      "195 aggarwal_dharna\n",
      "196 sayani._8\n",
      "197 akash_dagar\n",
      "198 prettylittlevirtuoso\n",
      "199 kirtikaushik25\n",
      "200 sweetshezi\n",
      "201 khushi__mittal__\n",
      "202 palak.9780\n",
      "203 ar_handa\n",
      "204 gaurika999\n",
      "205 utkarshsenofficial\n",
      "206 diaaroraa\n",
      "207 _mintandrose_10\n",
      "208 dhritipahuja\n",
      "209 dentalart2009\n",
      "210 absalomax\n",
      "211 prernasharmma\n",
      "212 nancygarg1602\n",
      "213 shariqueeeee\n",
      "214 jeevashahahahaa\n",
      "215 prince_jaiswall\n",
      "216 mee_t876\n",
      "217 mistymight\n",
      "218 soulsessions_\n",
      "219 somiyaofficialmua\n",
      "220 _foodaholic_2721\n",
      "221 piyushikdaya\n",
      "222 divyatrehan29\n",
      "223 kolkata_food_gallery\n",
      "224 _.b.h.a.v.e.s.h._\n",
      "225 chhavi1249\n",
      "226 annapurna_jajodia\n",
      "227 khushii2511\n",
      "228 ruchigupta4936\n",
      "229 iamnicksingh9\n",
      "230 kalpanaupreti\n",
      "231 delhiian\n",
      "232 ansh._.pandita\n",
      "233 yuvika_rao\n",
      "234 inst.jai\n",
      "235 _tanish_raina_\n",
      "236 its_kaifi_ok\n",
      "237 raosukriti\n",
      "238 realsadhana\n",
      "239 simpiiii__\n",
      "240 arhanmansuri592\n",
      "241 riyaatyagi02\n",
      "242 the_chaiperson\n",
      "243 nakuul_samaniya_ns\n",
      "244 nia_tarot_india\n",
      "245 aditikandera\n",
      "246 dr_ankitasaxena_31\n",
      "247 karandeep.jpg\n",
      "248 ayushi31k\n",
      "249 chitranshkumar\n",
      "250 1_1_1_s_u_n_i_l_1_1_1\n",
      "251 tanyarekhi\n",
      "252 aparnananaa._\n",
      "253 martina_ruhil\n",
      "254 kunjan_04\n",
      "255 rainy_sharma07\n",
      "256 massala.chai\n",
      "257 anjalii__\n",
      "258 himanigaur0968\n",
      "259 26manpreet\n",
      "260 itz_faizi_1\n",
      "261 shreya_trouvaille\n",
      "262 ranjanaprajapati51\n",
      "263 rajiarabiulsarkar6\n",
      "264 funfeature.121\n",
      "265 shashankshekharsrivastav\n",
      "266 flavors_of_food_\n",
      "267 todayinepisode\n",
      "268 riyasaluja13_\n",
      "269 shwettt.sharmaaa\n",
      "270 instaisusingme_\n",
      "271 aditya1.sh\n",
      "272 jagdishswami1\n",
      "273 palriwalasha\n",
      "274 himanshidahiya\n",
      "275 shweta2595\n",
      "276 iamaritra.22\n",
      "277 ll_badal_editz_ll\n",
      "278 mohit1396__\n",
      "279 vertikatiwari004\n",
      "280 oniyataba\n",
      "281 simran.kaur0530\n",
      "282 upsale29\n",
      "283 vividhaarya\n",
      "284 onecoffee_and_a_smile\n",
      "285 reejuujainn\n",
      "286 _.saransh_.agg\n",
      "287 2platechickenmomos\n",
      "288 nikki_vats\n",
      "289 smitaa92\n",
      "290 parth_gaur\n",
      "291 preksha_jain7\n",
      "292 jain__ayushi\n",
      "293 demonkingshubham\n",
      "294 inandinisharma_\n",
      "295 shrmamoni07\n",
      "296 mohit_atal\n",
      "297 __.riya_arora.__\n",
      "298 amashaamasala\n",
      "299 __akhil_vijayan__\n",
      "300 gargiyadav3\n",
      "301 shiviagl30\n",
      "302 nishant_.rai\n",
      "303 jamnidjamnid\n",
      "304 simran_0008\n",
      "305 suryan5h\n",
      "306 suhani_who\n",
      "307 iam.maansi\n",
      "308 manishsaagar\n",
      "309 parteekdhawan\n",
      "310 zaidi.anam\n",
      "311 shelly_nandwal\n",
      "312 sameer.bansal25\n",
      "313 parishajain\n",
      "314 _himanshu.thakur\n",
      "315 prakriti_08.01\n",
      "316 kewlkomal\n",
      "317 abhisharma102\n",
      "318 amandeeprsaxena\n",
      "319 _.sushmasingh\n",
      "320 patel__sir__05\n",
      "321 m.a.n.i.t\n",
      "322 sai_0418\n",
      "323 devanshi_gaba\n",
      "324 pallavishah.22\n",
      "325 rittika1661\n",
      "326 simran14taneja\n",
      "327 barkhasolanki5\n",
      "328 maneet.alagh\n",
      "329 makeadentaman\n",
      "330 itspankaj_08\n",
      "331 _aakriti_10\n",
      "332 kanu_310\n",
      "333 dumbanddumber9999\n",
      "334 ritu_garhwal7\n",
      "335 shashank_shekhar7\n",
      "336 akash_lahoray\n",
      "337 shivanisadhu47\n",
      "338 aayuushjjaain\n",
      "339 thefoodbearincorporated\n",
      "340 _uday___sharma_\n",
      "341 sakshi_aagsiii\n",
      "342 lavanya.gupta11\n",
      "343 ashish.dhull\n",
      "344 kashiram.9597\n",
      "345 dileep_k8800877542\n",
      "346 __tusharkumar__\n",
      "347 saood_khan_sk\n",
      "348 khyati7oswal\n",
      "349 yug.bansal6\n",
      "350 _.aashiyanaa._\n",
      "351 aaddiittyaa\n",
      "352 _joshisuman\n",
      "353 iamakeezo\n",
      "354 ashmica_333\n",
      "355 __avi0202_\n",
      "356 kaushambiii\n",
      "357 bhushan___bharat\n",
      "358 antraa._19\n",
      "359 amandureja90\n",
      "360 ani.khandelwal\n",
      "361 livingatine\n",
      "362 i.gauravv\n",
      "363 akshay_chawla03\n",
      "364 bidishakalita\n",
      "365 ketan_ketusic\n",
      "366 nandini___agrawal\n",
      "367 priya_bhartii\n",
      "368 kangana1912\n",
      "369 ps_pranjal\n",
      "370 waqeedkk\n",
      "371 akshu__1309\n",
      "372 muggle_siriusly\n",
      "373 20.mannat\n",
      "374 _neha_topno_\n",
      "375 xavishix\n",
      "376 samikshagupta06\n",
      "377 priyaasarkaar\n",
      "378 glamgogirl\n",
      "379 palkeshkansal\n",
      "380 jagdishverma2506\n",
      "381 skritichauhan\n",
      "382 asifanyonegivesadamn\n",
      "383 shagunpersonified\n",
      "384 jaspreet212\n",
      "385 aryamishra18\n",
      "386 shivanii.rawat\n",
      "387 shivanijethy\n",
      "388 khyatisethi.27\n",
      "389 thomassebastian96\n",
      "390 kritikasharma0104\n",
      "391 iarora0907\n",
      "392 dhrxx.v\n",
      "393 mehakjain733\n",
      "394 t6nay\n",
      "395 fashionhub8809\n",
      "396 sheetalarora95\n",
      "397 juned_raiyan\n",
      "398 aadhyaseth1011\n",
      "399 narendra_uzumaki_\n",
      "400 ash.joyce.l\n",
      "401 radhika_khandelwal__\n",
      "402 raj_varrddhan\n",
      "403 _boy1220\n",
      "404 abdu__003_\n",
      "405 the_knots_and_handcrafts\n",
      "406 christina_wilkinson_\n",
      "407 the.kaushal\n",
      "408 thewholedamnfire\n",
      "409 jigar_kalodia\n",
      "410 vinnie_vashisht\n",
      "411 varun8450\n",
      "412 somansh_gandhi\n",
      "413 chic_ken_tikka\n",
      "414 itz_quinnzee\n",
      "415 saleemspari2450\n",
      "416 djmaan2021\n",
      "417 sushii.pvtt\n",
      "418 _sherry29_\n",
      "419 muskanchauhan2023\n",
      "420 pranu.131119\n",
      "421 shivamverma_official_9971\n",
      "422 ajinder_deogun\n",
      "423 pablos_capturing\n",
      "424 shivamm.rai\n",
      "425 maniizz_\n",
      "426 stormdebelleza\n",
      "427 sh__shobhit_\n",
      "428 1_shalini_singh_1\n",
      "429 shalvi_77\n",
      "430 shreyj1992\n",
      "431 harjots__17\n",
      "432 the_amankumar.37\n",
      "433 suraj_____si______i_love\n",
      "434 preloved3ft\n",
      "435 v_i_p_e_r__the__p_r_e_d_a_to_r\n",
      "436 vaishalijoshi769\n",
      "437 earningblessings\n",
      "438 amit.gadhia.ag\n",
      "439 thejahanvidayal\n",
      "440 yuktakamra\n",
      "441 dressart_scrunchies\n",
      "442 nilakxx_\n",
      "443 gazal_dhingra\n",
      "444 sankalita.c\n",
      "445 biswa_bakshi\n",
      "446 tanvimalkarnekar\n",
      "447 manavaggarwal2222\n",
      "448 ziddi_reva\n",
      "449 ektawatts\n",
      "450 mrigankkgupta\n",
      "451 architajain10\n",
      "452 ravichauhan_12\n",
      "453 brava_mumma\n",
      "454 kanikaverma_20\n",
      "455 kritikasharmaa_\n",
      "456 _daagar_anjali\n",
      "457 ankitkrchoudhary\n",
      "458 navneet.singh.3591267\n",
      "459 ashishgoyal1357\n",
      "460 vrinda__goel\n",
      "461 tushigupta.20\n",
      "462 harshitmorj\n",
      "463 singh__shalini\n",
      "464 snehal.1916\n",
      "465 maansay\n",
      "466 aman_740_singh\n",
      "467 rupz15\n",
      "468 raghav_pvt777\n",
      "469 dr.jainjyoti\n",
      "470 ritu.aggarwal.31\n",
      "471 brajeshkhute\n",
      "472 thephotoh0lic\n",
      "473 hellomorningstars\n",
      "474 meowmeow983180\n",
      "475 __.eshh.__\n",
      "476 abhishekgier\n",
      "477 varunya_jayaprakash\n",
      "478 rochisberiwal\n",
      "479 the_pack_hunter_\n",
      "480 himani_30_\n",
      "481 madhur_lochab\n",
      "482 punia5439\n",
      "483 faith3331111\n",
      "484 duhan1712\n",
      "485 manisha931990\n",
      "486 __.joshjoshreya.__\n",
      "487 shallubhambri\n",
      "488 anouskabiswas\n",
      "489 pallavisatija\n",
      "490 tanujkalra\n",
      "491 bhavyughwhatever\n",
      "492 art_thetic_6\n",
      "493 xyzzyx8455\n",
      "494 _.palkinn\n",
      "495 arvind05.02.82\n",
      "496 musarrat_rehman_\n",
      "497 everything_travel_india\n",
      "498 thatpoetperson\n",
      "499 nikhitauwu\n"
     ]
    }
   ],
   "source": [
    "# search and open\n",
    "search_open_profile('sodelhi')\n",
    "\n",
    "# extract followers\n",
    "username=extract_followers(500)\n",
    "\n",
    "# printing the extracted usernames\n",
    "for i in range(len(username)):\n",
    "    print(i,username[i])\n",
    "time.sleep(2)"
   ]
  },
  {
   "cell_type": "markdown",
   "metadata": {},
   "source": [
    "### 6.2"
   ]
  },
  {
   "cell_type": "code",
   "execution_count": 49,
   "metadata": {},
   "outputs": [],
   "source": [
    "# function to find those followers of a page that we follow"
   ]
  },
  {
   "cell_type": "code",
   "execution_count": 50,
   "metadata": {},
   "outputs": [],
   "source": [
    "def followers_of_page_we_follow():\n",
    "    \n",
    "    try:\n",
    "        # wait until the below element is present\n",
    "        wait=WebDriverWait(driver,10).until(EC.presence_of_all_elements_located((By.CLASS_NAME,'_0PwGv')))\n",
    "\n",
    "        # followers of the page that we follow\n",
    "        followers_we_follow=driver.find_elements_by_xpath('//div[contains(@class,\"_0PwGv\")]/span')\n",
    "\n",
    "        # array of all those followers that we follow\n",
    "        arr_of_followers=[]\n",
    "        for i in followers_we_follow:\n",
    "            arr_of_followers.append(i.get_attribute('innerHTML'))\n",
    "        return arr_of_followers\n",
    "    \n",
    "    except:\n",
    "        print('Error!')\n",
    "        print('Try Again')"
   ]
  },
  {
   "cell_type": "markdown",
   "metadata": {},
   "source": [
    "## FOODTALKINDIA"
   ]
  },
  {
   "cell_type": "code",
   "execution_count": 51,
   "metadata": {},
   "outputs": [
    {
     "name": "stderr",
     "output_type": "stream",
     "text": [
      "<ipython-input-15-a64d7761707a>:4: DeprecationWarning: find_element_by_class_name is deprecated. Please use find_element(by=By.CLASS_NAME, value=name) instead\n",
      "  search_box=driver.find_element_by_class_name('P0xOK').click()\n",
      "<ipython-input-15-a64d7761707a>:8: DeprecationWarning: find_element_by_class_name is deprecated. Please use find_element(by=By.CLASS_NAME, value=name) instead\n",
      "  search_box=driver.find_element_by_class_name('XTCLo')\n",
      "<ipython-input-15-a64d7761707a>:15: DeprecationWarning: find_element_by_class_name is deprecated. Please use find_element(by=By.CLASS_NAME, value=name) instead\n",
      "  driver.find_element_by_class_name('-qQT3').click()\n"
     ]
    }
   ],
   "source": [
    "# search and open the profile\n",
    "search_open_profile('foodtalkindia')\n",
    "time.sleep(2)"
   ]
  },
  {
   "cell_type": "code",
   "execution_count": 52,
   "metadata": {},
   "outputs": [
    {
     "name": "stderr",
     "output_type": "stream",
     "text": [
      "<ipython-input-50-c19f816da2c5>:8: DeprecationWarning: find_elements_by_xpath is deprecated. Please use find_elements(by=By.XPATH, value=xpath) instead\n",
      "  followers_we_follow=driver.find_elements_by_xpath('//div[contains(@class,\"_0PwGv\")]/span')\n"
     ]
    },
    {
     "name": "stdout",
     "output_type": "stream",
     "text": [
      "['thefoodiehouse00']\n"
     ]
    }
   ],
   "source": [
    "# followers of \"foodtalkindia\" that I follow\n",
    "followers=followers_of_page_we_follow()\n",
    "time.sleep(2)\n",
    "print(followers)"
   ]
  },
  {
   "cell_type": "markdown",
   "metadata": {},
   "source": [
    "## FUNCTION TO FIND TOTAL NUMBER OF FOLLOWERS"
   ]
  },
  {
   "cell_type": "code",
   "execution_count": 53,
   "metadata": {},
   "outputs": [],
   "source": [
    "def no_of_followers():\n",
    "    try:\n",
    "        followers=driver.find_elements_by_class_name('g47SY ')\n",
    "        s=followers[1].get_attribute('title')\n",
    "        s=s.split(',')\n",
    "\n",
    "        num=''\n",
    "        for i in s:\n",
    "            num=num+i\n",
    "\n",
    "        return int(num)\n",
    "    \n",
    "    except:\n",
    "        print('Error!')\n",
    "        print('Try Again')"
   ]
  },
  {
   "cell_type": "markdown",
   "metadata": {},
   "source": [
    "## OUR OWN PROFILE"
   ]
  },
  {
   "cell_type": "code",
   "execution_count": 54,
   "metadata": {},
   "outputs": [
    {
     "name": "stderr",
     "output_type": "stream",
     "text": [
      "<ipython-input-15-a64d7761707a>:4: DeprecationWarning: find_element_by_class_name is deprecated. Please use find_element(by=By.CLASS_NAME, value=name) instead\n",
      "  search_box=driver.find_element_by_class_name('P0xOK').click()\n",
      "<ipython-input-15-a64d7761707a>:8: DeprecationWarning: find_element_by_class_name is deprecated. Please use find_element(by=By.CLASS_NAME, value=name) instead\n",
      "  search_box=driver.find_element_by_class_name('XTCLo')\n",
      "<ipython-input-15-a64d7761707a>:15: DeprecationWarning: find_element_by_class_name is deprecated. Please use find_element(by=By.CLASS_NAME, value=name) instead\n",
      "  driver.find_element_by_class_name('-qQT3').click()\n"
     ]
    }
   ],
   "source": [
    "search_open_profile('sample_username')\n",
    "time.sleep(2)"
   ]
  },
  {
   "cell_type": "code",
   "execution_count": 55,
   "metadata": {},
   "outputs": [],
   "source": [
    "# total number of followers of my profile"
   ]
  },
  {
   "cell_type": "code",
   "execution_count": 60,
   "metadata": {},
   "outputs": [
    {
     "name": "stderr",
     "output_type": "stream",
     "text": [
      "<ipython-input-53-40889e8c87b8>:3: DeprecationWarning: find_elements_by_class_name is deprecated. Please use find_elements(by=By.CLASS_NAME, value=name) instead\n",
      "  followers=driver.find_elements_by_class_name('g47SY ')\n"
     ]
    }
   ],
   "source": [
    "num=no_of_followers()\n",
    "time.sleep(2)"
   ]
  },
  {
   "cell_type": "code",
   "execution_count": 61,
   "metadata": {},
   "outputs": [],
   "source": [
    "# my followers"
   ]
  },
  {
   "cell_type": "code",
   "execution_count": 63,
   "metadata": {},
   "outputs": [
    {
     "name": "stderr",
     "output_type": "stream",
     "text": [
      "<ipython-input-42-1e82e1331919>:11: DeprecationWarning: find_element_by_class_name is deprecated. Please use find_element(by=By.CLASS_NAME, value=name) instead\n",
      "  frame=driver.find_element_by_class_name('jSC57')\n",
      "<ipython-input-42-1e82e1331919>:20: DeprecationWarning: find_elements_by_xpath is deprecated. Please use find_elements(by=By.XPATH, value=xpath) instead\n",
      "  followers = driver.find_elements_by_xpath('//a[contains(@class,\"notranslate\")]/span')\n",
      "<ipython-input-42-1e82e1331919>:26: DeprecationWarning: find_element_by_xpath is deprecated. Please use find_element(by=By.XPATH, value=xpath) instead\n",
      "  driver.find_element_by_xpath('//div[contains(@class,\"lC6p0\")]/button').click()\n"
     ]
    }
   ],
   "source": [
    "my_followers=extract_followers(num)\n",
    "time.sleep(2)"
   ]
  },
  {
   "cell_type": "code",
   "execution_count": 64,
   "metadata": {},
   "outputs": [],
   "source": [
    "# the followers of “foodtalkindia” that you are following but those who don’t follow you"
   ]
  },
  {
   "cell_type": "code",
   "execution_count": 65,
   "metadata": {},
   "outputs": [
    {
     "name": "stdout",
     "output_type": "stream",
     "text": [
      "thefoodiehouse00\n"
     ]
    }
   ],
   "source": [
    "followers=set(followers)\n",
    "my_followers=set(my_followers)\n",
    "\n",
    "if len(followers)==0:\n",
    "    print('No Results Found')\n",
    "else:\n",
    "    j=0\n",
    "    # loop to find the followers of “foodtalkindia” that you are following but those who don’t follow you\n",
    "    for i in followers:\n",
    "        if i not in my_followers:\n",
    "            print(i)\n",
    "            j=j+1\n",
    "    if j==0:\n",
    "        print('No such users found')"
   ]
  },
  {
   "cell_type": "markdown",
   "metadata": {},
   "source": [
    "# QUESTION 7"
   ]
  },
  {
   "cell_type": "markdown",
   "metadata": {},
   "source": [
    "## SEARCH AND OPEN THE PROFILE OF 'CODING.NINJAS'"
   ]
  },
  {
   "cell_type": "code",
   "execution_count": 66,
   "metadata": {},
   "outputs": [
    {
     "name": "stderr",
     "output_type": "stream",
     "text": [
      "<ipython-input-15-a64d7761707a>:4: DeprecationWarning: find_element_by_class_name is deprecated. Please use find_element(by=By.CLASS_NAME, value=name) instead\n",
      "  search_box=driver.find_element_by_class_name('P0xOK').click()\n",
      "<ipython-input-15-a64d7761707a>:8: DeprecationWarning: find_element_by_class_name is deprecated. Please use find_element(by=By.CLASS_NAME, value=name) instead\n",
      "  search_box=driver.find_element_by_class_name('XTCLo')\n",
      "<ipython-input-15-a64d7761707a>:15: DeprecationWarning: find_element_by_class_name is deprecated. Please use find_element(by=By.CLASS_NAME, value=name) instead\n",
      "  driver.find_element_by_class_name('-qQT3').click()\n"
     ]
    }
   ],
   "source": [
    "search_open_profile('coding.ninjas')\n",
    "time.sleep(2)"
   ]
  },
  {
   "cell_type": "markdown",
   "metadata": {},
   "source": [
    "## FUNCTION TO CHECK THE STORY"
   ]
  },
  {
   "cell_type": "code",
   "execution_count": 67,
   "metadata": {},
   "outputs": [],
   "source": [
    "def Check_Story():\n",
    "    try:\n",
    "        #locating story or profile pic\n",
    "        story = WebDriverWait(driver,10).until(EC.presence_of_element_located((By.CLASS_NAME,\"RR-M-.h5uC0\")))\n",
    "    \n",
    "        #check the Profile photo size to find out story is available or not\n",
    "        height = driver.find_element_by_class_name('CfWVH').get_attribute('height')\n",
    "        if int(height) == 166:\n",
    "            print(\"Already seen the story\")\n",
    "        else:\n",
    "            print(\"Viewing the story\")\n",
    "            driver.execute_script(\"arguments[0].click();\",story)\n",
    "    except:\n",
    "        print(\"The user has no story.\")"
   ]
  },
  {
   "cell_type": "markdown",
   "metadata": {},
   "source": [
    "## CHECKING THE STORY OF \"CODING.NINJAS\""
   ]
  },
  {
   "cell_type": "code",
   "execution_count": 68,
   "metadata": {},
   "outputs": [
    {
     "name": "stdout",
     "output_type": "stream",
     "text": [
      "Already seen the story\n"
     ]
    },
    {
     "name": "stderr",
     "output_type": "stream",
     "text": [
      "<ipython-input-67-2eb4710a1e0a>:7: DeprecationWarning: find_element_by_class_name is deprecated. Please use find_element(by=By.CLASS_NAME, value=name) instead\n",
      "  height = driver.find_element_by_class_name('CfWVH').get_attribute('height')\n"
     ]
    }
   ],
   "source": [
    "Check_Story()"
   ]
  }
 ],
 "metadata": {
  "kernelspec": {
   "display_name": "Python 3",
   "language": "python",
   "name": "python3"
  },
  "language_info": {
   "codemirror_mode": {
    "name": "ipython",
    "version": 3
   },
   "file_extension": ".py",
   "mimetype": "text/x-python",
   "name": "python",
   "nbconvert_exporter": "python",
   "pygments_lexer": "ipython3",
   "version": "3.8.0"
  }
 },
 "nbformat": 4,
 "nbformat_minor": 4
}
